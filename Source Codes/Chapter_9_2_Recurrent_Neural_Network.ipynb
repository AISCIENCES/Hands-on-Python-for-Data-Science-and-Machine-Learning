{
  "nbformat": 4,
  "nbformat_minor": 0,
  "metadata": {
    "colab": {
      "name": "Chapter 9.2 - Recurrent Neural Network ",
      "provenance": [],
      "collapsed_sections": []
    },
    "kernelspec": {
      "name": "python3",
      "display_name": "Python 3"
    },
    "accelerator": "GPU"
  },
  "cells": [
    {
      "cell_type": "markdown",
      "metadata": {
        "id": "Qb1wpsF5Z9fh",
        "colab_type": "text"
      },
      "source": [
        "### 9.2. Predicting Stock Market Prices with LSTM using TensorFlow 2.0"
      ]
    },
    {
      "cell_type": "code",
      "metadata": {
        "id": "Pc6dU7QvaPfh",
        "colab_type": "code",
        "colab": {
          "base_uri": "https://localhost:8080/",
          "height": 1000
        },
        "outputId": "ca639de3-5721-4bd8-de44-61d2413a1b8d"
      },
      "source": [
        "pip install --upgrade tensorflow"
      ],
      "execution_count": null,
      "outputs": [
        {
          "output_type": "stream",
          "text": [
            "Collecting tensorflow\n",
            "\u001b[?25l  Downloading https://files.pythonhosted.org/packages/ad/ad/769c195c72ac72040635c66cd9ba7b0f4b4fc1ac67e59b99fa6988446c22/tensorflow-2.3.1-cp36-cp36m-manylinux2010_x86_64.whl (320.4MB)\n",
            "\u001b[K     |███▉                            | 37.9MB 51.2MB/s eta 0:00:06\u001b[31mERROR: Exception:\n",
            "Traceback (most recent call last):\n",
            "  File \"/usr/local/lib/python3.6/dist-packages/pip/_vendor/urllib3/response.py\", line 425, in _error_catcher\n",
            "    yield\n",
            "  File \"/usr/local/lib/python3.6/dist-packages/pip/_vendor/urllib3/response.py\", line 507, in read\n",
            "    data = self._fp.read(amt) if not fp_closed else b\"\"\n",
            "  File \"/usr/local/lib/python3.6/dist-packages/pip/_vendor/cachecontrol/filewrapper.py\", line 62, in read\n",
            "    data = self.__fp.read(amt)\n",
            "  File \"/usr/lib/python3.6/http/client.py\", line 459, in read\n",
            "    n = self.readinto(b)\n",
            "  File \"/usr/lib/python3.6/http/client.py\", line 503, in readinto\n",
            "    n = self.fp.readinto(b)\n",
            "  File \"/usr/lib/python3.6/socket.py\", line 586, in readinto\n",
            "    return self._sock.recv_into(b)\n",
            "  File \"/usr/lib/python3.6/ssl.py\", line 1012, in recv_into\n",
            "    return self.read(nbytes, buffer)\n",
            "  File \"/usr/lib/python3.6/ssl.py\", line 874, in read\n",
            "    return self._sslobj.read(len, buffer)\n",
            "  File \"/usr/lib/python3.6/ssl.py\", line 631, in read\n",
            "    v = self._sslobj.read(len, buffer)\n",
            "ConnectionResetError: [Errno 104] Connection reset by peer\n",
            "\n",
            "During handling of the above exception, another exception occurred:\n",
            "\n",
            "Traceback (most recent call last):\n",
            "  File \"/usr/local/lib/python3.6/dist-packages/pip/_internal/cli/base_command.py\", line 153, in _main\n",
            "    status = self.run(options, args)\n",
            "  File \"/usr/local/lib/python3.6/dist-packages/pip/_internal/commands/install.py\", line 382, in run\n",
            "    resolver.resolve(requirement_set)\n",
            "  File \"/usr/local/lib/python3.6/dist-packages/pip/_internal/legacy_resolve.py\", line 201, in resolve\n",
            "    self._resolve_one(requirement_set, req)\n",
            "  File \"/usr/local/lib/python3.6/dist-packages/pip/_internal/legacy_resolve.py\", line 365, in _resolve_one\n",
            "    abstract_dist = self._get_abstract_dist_for(req_to_install)\n",
            "  File \"/usr/local/lib/python3.6/dist-packages/pip/_internal/legacy_resolve.py\", line 313, in _get_abstract_dist_for\n",
            "    req, self.session, self.finder, self.require_hashes\n",
            "  File \"/usr/local/lib/python3.6/dist-packages/pip/_internal/operations/prepare.py\", line 194, in prepare_linked_requirement\n",
            "    progress_bar=self.progress_bar\n",
            "  File \"/usr/local/lib/python3.6/dist-packages/pip/_internal/download.py\", line 465, in unpack_url\n",
            "    progress_bar=progress_bar\n",
            "  File \"/usr/local/lib/python3.6/dist-packages/pip/_internal/download.py\", line 316, in unpack_http_url\n",
            "    progress_bar)\n",
            "  File \"/usr/local/lib/python3.6/dist-packages/pip/_internal/download.py\", line 551, in _download_http_url\n",
            "    _download_url(resp, link, content_file, hashes, progress_bar)\n",
            "  File \"/usr/local/lib/python3.6/dist-packages/pip/_internal/download.py\", line 253, in _download_url\n",
            "    hashes.check_against_chunks(downloaded_chunks)\n",
            "  File \"/usr/local/lib/python3.6/dist-packages/pip/_internal/utils/hashes.py\", line 80, in check_against_chunks\n",
            "    for chunk in chunks:\n",
            "  File \"/usr/local/lib/python3.6/dist-packages/pip/_internal/download.py\", line 223, in written_chunks\n",
            "    for chunk in chunks:\n",
            "  File \"/usr/local/lib/python3.6/dist-packages/pip/_internal/utils/ui.py\", line 160, in iter\n",
            "    for x in it:\n",
            "  File \"/usr/local/lib/python3.6/dist-packages/pip/_internal/download.py\", line 212, in resp_read\n",
            "    decode_content=False):\n",
            "  File \"/usr/local/lib/python3.6/dist-packages/pip/_vendor/urllib3/response.py\", line 564, in stream\n",
            "    data = self.read(amt=amt, decode_content=decode_content)\n",
            "  File \"/usr/local/lib/python3.6/dist-packages/pip/_vendor/urllib3/response.py\", line 529, in read\n",
            "    raise IncompleteRead(self._fp_bytes_read, self.length_remaining)\n",
            "  File \"/usr/lib/python3.6/contextlib.py\", line 99, in __exit__\n",
            "    self.gen.throw(type, value, traceback)\n",
            "  File \"/usr/local/lib/python3.6/dist-packages/pip/_vendor/urllib3/response.py\", line 443, in _error_catcher\n",
            "    raise ProtocolError(\"Connection broken: %r\" % e, e)\n",
            "pip._vendor.urllib3.exceptions.ProtocolError: (\"Connection broken: ConnectionResetError(104, 'Connection reset by peer')\", ConnectionResetError(104, 'Connection reset by peer'))\u001b[0m\n"
          ],
          "name": "stdout"
        }
      ]
    },
    {
      "cell_type": "code",
      "metadata": {
        "id": "iq8hIGBpB1o_",
        "colab_type": "code",
        "colab": {
          "base_uri": "https://localhost:8080/",
          "height": 35
        },
        "outputId": "7fd4f591-f91e-43aa-a89a-5776feef114c"
      },
      "source": [
        "import tensorflow as tf\n",
        "print(tf.__version__)"
      ],
      "execution_count": null,
      "outputs": [
        {
          "output_type": "stream",
          "text": [
            "2.3.0\n"
          ],
          "name": "stdout"
        }
      ]
    },
    {
      "cell_type": "code",
      "metadata": {
        "id": "pR8qYy47B4bQ",
        "colab_type": "code",
        "colab": {
          "base_uri": "https://localhost:8080/",
          "height": 35
        },
        "outputId": "bbb9571a-920e-4b4b-947e-8c003d4ddda7"
      },
      "source": [
        "# mounting google drive\n",
        "from google.colab import drive\n",
        "drive.mount('/gdrive')\n"
      ],
      "execution_count": null,
      "outputs": [
        {
          "output_type": "stream",
          "text": [
            "Mounted at /gdrive\n"
          ],
          "name": "stdout"
        }
      ]
    },
    {
      "cell_type": "code",
      "metadata": {
        "id": "zTvvDnF7E6rs",
        "colab_type": "code",
        "colab": {}
      },
      "source": [
        "# importing libraries\n",
        "import pandas as pd\n",
        "import numpy as np\n",
        "\n",
        "#importing dataset\n",
        "fb_complete_data = pd.read_csv(\"/gdrive/My Drive/datasets/fb_train.csv\")"
      ],
      "execution_count": null,
      "outputs": []
    },
    {
      "cell_type": "code",
      "metadata": {
        "id": "pD7_fnsvFh0f",
        "colab_type": "code",
        "colab": {
          "base_uri": "https://localhost:8080/",
          "height": 198
        },
        "outputId": "6cc6197c-4cb8-4644-c4e0-e4508df6251f"
      },
      "source": [
        "#printing dataset header\n",
        "fb_complete_data.head()"
      ],
      "execution_count": null,
      "outputs": [
        {
          "output_type": "execute_result",
          "data": {
            "text/html": [
              "<div>\n",
              "<style scoped>\n",
              "    .dataframe tbody tr th:only-of-type {\n",
              "        vertical-align: middle;\n",
              "    }\n",
              "\n",
              "    .dataframe tbody tr th {\n",
              "        vertical-align: top;\n",
              "    }\n",
              "\n",
              "    .dataframe thead th {\n",
              "        text-align: right;\n",
              "    }\n",
              "</style>\n",
              "<table border=\"1\" class=\"dataframe\">\n",
              "  <thead>\n",
              "    <tr style=\"text-align: right;\">\n",
              "      <th></th>\n",
              "      <th>Date</th>\n",
              "      <th>Open</th>\n",
              "      <th>High</th>\n",
              "      <th>Low</th>\n",
              "      <th>Close</th>\n",
              "      <th>Adj Close</th>\n",
              "      <th>Volume</th>\n",
              "    </tr>\n",
              "  </thead>\n",
              "  <tbody>\n",
              "    <tr>\n",
              "      <th>0</th>\n",
              "      <td>2015-01-02</td>\n",
              "      <td>78.580002</td>\n",
              "      <td>78.930000</td>\n",
              "      <td>77.699997</td>\n",
              "      <td>78.449997</td>\n",
              "      <td>78.449997</td>\n",
              "      <td>18177500</td>\n",
              "    </tr>\n",
              "    <tr>\n",
              "      <th>1</th>\n",
              "      <td>2015-01-05</td>\n",
              "      <td>77.980003</td>\n",
              "      <td>79.250000</td>\n",
              "      <td>76.860001</td>\n",
              "      <td>77.190002</td>\n",
              "      <td>77.190002</td>\n",
              "      <td>26452200</td>\n",
              "    </tr>\n",
              "    <tr>\n",
              "      <th>2</th>\n",
              "      <td>2015-01-06</td>\n",
              "      <td>77.230003</td>\n",
              "      <td>77.589996</td>\n",
              "      <td>75.360001</td>\n",
              "      <td>76.150002</td>\n",
              "      <td>76.150002</td>\n",
              "      <td>27399300</td>\n",
              "    </tr>\n",
              "    <tr>\n",
              "      <th>3</th>\n",
              "      <td>2015-01-07</td>\n",
              "      <td>76.760002</td>\n",
              "      <td>77.360001</td>\n",
              "      <td>75.820000</td>\n",
              "      <td>76.150002</td>\n",
              "      <td>76.150002</td>\n",
              "      <td>22045300</td>\n",
              "    </tr>\n",
              "    <tr>\n",
              "      <th>4</th>\n",
              "      <td>2015-01-08</td>\n",
              "      <td>76.739998</td>\n",
              "      <td>78.230003</td>\n",
              "      <td>76.080002</td>\n",
              "      <td>78.180000</td>\n",
              "      <td>78.180000</td>\n",
              "      <td>23961000</td>\n",
              "    </tr>\n",
              "  </tbody>\n",
              "</table>\n",
              "</div>"
            ],
            "text/plain": [
              "         Date       Open       High        Low      Close  Adj Close    Volume\n",
              "0  2015-01-02  78.580002  78.930000  77.699997  78.449997  78.449997  18177500\n",
              "1  2015-01-05  77.980003  79.250000  76.860001  77.190002  77.190002  26452200\n",
              "2  2015-01-06  77.230003  77.589996  75.360001  76.150002  76.150002  27399300\n",
              "3  2015-01-07  76.760002  77.360001  75.820000  76.150002  76.150002  22045300\n",
              "4  2015-01-08  76.739998  78.230003  76.080002  78.180000  78.180000  23961000"
            ]
          },
          "metadata": {
            "tags": []
          },
          "execution_count": 24
        }
      ]
    },
    {
      "cell_type": "code",
      "metadata": {
        "id": "OqB1Az97Fkkw",
        "colab_type": "code",
        "colab": {}
      },
      "source": [
        "#filtering open column\n",
        "fb_training_processed = fb_complete_data[['Open']].values"
      ],
      "execution_count": null,
      "outputs": []
    },
    {
      "cell_type": "code",
      "metadata": {
        "id": "MAnrnM1XFxZ7",
        "colab_type": "code",
        "colab": {}
      },
      "source": [
        "#scaling features\n",
        "from sklearn.preprocessing import MinMaxScaler\n",
        "scaler = MinMaxScaler(feature_range = (0, 1))\n",
        "\n",
        "fb_training_scaled = scaler.fit_transform(fb_training_processed)"
      ],
      "execution_count": null,
      "outputs": []
    },
    {
      "cell_type": "code",
      "metadata": {
        "id": "93sga1IyF2vC",
        "colab_type": "code",
        "colab": {
          "base_uri": "https://localhost:8080/",
          "height": 35
        },
        "outputId": "64ca09a5-81e3-4b96-e8a7-987798ef4e55"
      },
      "source": [
        "len(fb_training_scaled)"
      ],
      "execution_count": null,
      "outputs": [
        {
          "output_type": "execute_result",
          "data": {
            "text/plain": [
              "1257"
            ]
          },
          "metadata": {
            "tags": []
          },
          "execution_count": 27
        }
      ]
    },
    {
      "cell_type": "code",
      "metadata": {
        "id": "zBWfetp1GKBb",
        "colab_type": "code",
        "colab": {}
      },
      "source": [
        "#training features containd data of last 60 days\n",
        "#training labels contain data of 61st day\n",
        "\n",
        "fb_training_features= []\n",
        "fb_training_labels = []\n",
        "for i in range(60, len(fb_training_scaled)):\n",
        "    fb_training_features.append(fb_training_scaled[i-60:i, 0])\n",
        "    fb_training_labels.append(fb_training_scaled[i, 0])"
      ],
      "execution_count": null,
      "outputs": []
    },
    {
      "cell_type": "code",
      "metadata": {
        "id": "PmlXLCJDGe3k",
        "colab_type": "code",
        "colab": {}
      },
      "source": [
        "#converting training data to numpy arrays\n",
        "X_train = np.array(fb_training_features)\n",
        "y_train = np.array(fb_training_labels)"
      ],
      "execution_count": null,
      "outputs": []
    },
    {
      "cell_type": "code",
      "metadata": {
        "id": "ihzFf_TuNbtR",
        "colab_type": "code",
        "colab": {
          "base_uri": "https://localhost:8080/",
          "height": 54
        },
        "outputId": "5322ddc6-18bf-4d56-9646-ceb824d063e2"
      },
      "source": [
        "print(X_train.shape)\n",
        "print(y_train.shape)"
      ],
      "execution_count": null,
      "outputs": [
        {
          "output_type": "stream",
          "text": [
            "(1197, 60)\n",
            "(1197,)\n"
          ],
          "name": "stdout"
        }
      ]
    },
    {
      "cell_type": "code",
      "metadata": {
        "id": "LwVOyiqUG8uh",
        "colab_type": "code",
        "colab": {}
      },
      "source": [
        "#converting data into 3D shape\n",
        "X_train = np.reshape(X_train, (X_train.shape[0], X_train.shape[1], 1))"
      ],
      "execution_count": null,
      "outputs": []
    },
    {
      "cell_type": "code",
      "metadata": {
        "id": "tS20_rION7BY",
        "colab_type": "code",
        "colab": {}
      },
      "source": [
        "#importing libraries\n",
        "import numpy as np\n",
        "import matplotlib.pyplot as plt\n",
        "from tensorflow.keras.layers import Input, Activation, Dense, Flatten, Dropout,  Flatten, LSTM\n",
        "from tensorflow.keras.models import Model"
      ],
      "execution_count": null,
      "outputs": []
    },
    {
      "cell_type": "code",
      "metadata": {
        "id": "bbJjA8F2ZGej",
        "colab_type": "code",
        "colab": {
          "base_uri": "https://localhost:8080/",
          "height": 110
        },
        "outputId": "a0332144-e008-4c36-f2b9-ae8ae03ee885"
      },
      "source": [
        "#defining the LSTM network\n",
        "\n",
        "input_layer = Input(shape = (X_train.shape[1], 1))\n",
        "lstm1 = LSTM(100, activation='relu', return_sequences=True)(input_layer)\n",
        "do1 = Dropout(0.2)(lstm1)\n",
        "lstm2 = LSTM(100, activation='relu', return_sequences=True)(do1)\n",
        "do2 = Dropout(0.2)(lstm2)\n",
        "lstm3 = LSTM(100, activation='relu', return_sequences=True)(do2)\n",
        "do3 = Dropout(0.2)(lstm3)\n",
        "lstm4 = LSTM(100, activation='relu')(do3)\n",
        "do4 = Dropout(0.2)(lstm4)\n",
        "\n",
        "output_layer = Dense(1)(do4)\n",
        "model = Model(input_layer, output_layer)\n",
        "model.compile(optimizer='adam', loss='mse')"
      ],
      "execution_count": null,
      "outputs": [
        {
          "output_type": "stream",
          "text": [
            "WARNING:tensorflow:Layer lstm_4 will not use cuDNN kernel since it doesn't meet the cuDNN kernel criteria. It will use generic GPU kernel as fallback when running on GPU\n",
            "WARNING:tensorflow:Layer lstm_5 will not use cuDNN kernel since it doesn't meet the cuDNN kernel criteria. It will use generic GPU kernel as fallback when running on GPU\n",
            "WARNING:tensorflow:Layer lstm_6 will not use cuDNN kernel since it doesn't meet the cuDNN kernel criteria. It will use generic GPU kernel as fallback when running on GPU\n",
            "WARNING:tensorflow:Layer lstm_7 will not use cuDNN kernel since it doesn't meet the cuDNN kernel criteria. It will use generic GPU kernel as fallback when running on GPU\n"
          ],
          "name": "stdout"
        }
      ]
    },
    {
      "cell_type": "code",
      "metadata": {
        "id": "ADybUeEKNQg8",
        "colab_type": "code",
        "colab": {
          "base_uri": "https://localhost:8080/",
          "height": 1000
        },
        "outputId": "52d10952-7fb1-4075-9794-3d09261bc122"
      },
      "source": [
        "#plotting model architecture\n",
        "from tensorflow.keras.utils import plot_model\n",
        "plot_model(model, to_file='/gdrive/My Drive/datasets/model_plot1.png', show_shapes=True, show_layer_names=True)"
      ],
      "execution_count": null,
      "outputs": [
        {
          "output_type": "execute_result",
          "data": {
            "image/png": "[encoded data removed]",
            "text/plain": [
              "<IPython.core.display.Image object>"
            ]
          },
          "metadata": {
            "tags": []
          },
          "execution_count": 34
        }
      ]
    },
    {
      "cell_type": "code",
      "metadata": {
        "id": "-Q7b9CAZvb0Z",
        "colab_type": "code",
        "colab": {
          "base_uri": "https://localhost:8080/",
          "height": 72
        },
        "outputId": "7c60a923-1bdd-48ae-c748-8fb24dc2764d"
      },
      "source": [
        "print(X_train.shape)\n",
        "print(y_train.shape)\n",
        "y_train= y_train.reshape(-1,1)\n",
        "print(y_train.shape)"
      ],
      "execution_count": null,
      "outputs": [
        {
          "output_type": "stream",
          "text": [
            "(1197, 60, 1)\n",
            "(1197,)\n",
            "(1197, 1)\n"
          ],
          "name": "stdout"
        }
      ]
    },
    {
      "cell_type": "code",
      "metadata": {
        "id": "twsWEX2IOBxe",
        "colab_type": "code",
        "colab": {
          "base_uri": "https://localhost:8080/",
          "height": 1000
        },
        "outputId": "b7c53d10-cbdb-496e-bc09-f761c0ec1a1c"
      },
      "source": [
        "#training the model\n",
        "model_history = model.fit(X_train, y_train, epochs=100, verbose=1, batch_size = 32)"
      ],
      "execution_count": null,
      "outputs": [
        {
          "output_type": "stream",
          "text": [
            "Epoch 1/100\n",
            "38/38 [==============================] - 18s 469ms/step - loss: 0.0740\n",
            "Epoch 2/100\n",
            "38/38 [==============================] - 18s 464ms/step - loss: 0.0085\n",
            "Epoch 3/100\n",
            "38/38 [==============================] - 18s 466ms/step - loss: 0.0067\n",
            "Epoch 4/100\n",
            "38/38 [==============================] - 18s 483ms/step - loss: 0.0062\n",
            "Epoch 5/100\n",
            "38/38 [==============================] - 18s 473ms/step - loss: 0.0059\n",
            "Epoch 6/100\n",
            "38/38 [==============================] - 18s 482ms/step - loss: 0.0060\n",
            "Epoch 7/100\n",
            "38/38 [==============================] - 18s 471ms/step - loss: 0.0053\n",
            "Epoch 8/100\n",
            "38/38 [==============================] - 17s 458ms/step - loss: 0.0052\n",
            "Epoch 9/100\n",
            "38/38 [==============================] - 18s 461ms/step - loss: 0.0053\n",
            "Epoch 10/100\n",
            "38/38 [==============================] - 18s 467ms/step - loss: 0.0048\n",
            "Epoch 11/100\n",
            "38/38 [==============================] - 18s 474ms/step - loss: 0.0050\n",
            "Epoch 12/100\n",
            "38/38 [==============================] - 18s 472ms/step - loss: 0.0046\n",
            "Epoch 13/100\n",
            "38/38 [==============================] - 18s 466ms/step - loss: 0.0051\n",
            "Epoch 14/100\n",
            "38/38 [==============================] - 18s 467ms/step - loss: 0.0045\n",
            "Epoch 15/100\n",
            "38/38 [==============================] - 17s 454ms/step - loss: 0.0044\n",
            "Epoch 16/100\n",
            "38/38 [==============================] - 18s 461ms/step - loss: 0.0045\n",
            "Epoch 17/100\n",
            "38/38 [==============================] - 17s 459ms/step - loss: 0.0046\n",
            "Epoch 18/100\n",
            "38/38 [==============================] - 18s 461ms/step - loss: 0.0039\n",
            "Epoch 19/100\n",
            "38/38 [==============================] - 17s 457ms/step - loss: 0.0043\n",
            "Epoch 20/100\n",
            "38/38 [==============================] - 17s 459ms/step - loss: 0.0048\n",
            "Epoch 21/100\n",
            "38/38 [==============================] - 17s 458ms/step - loss: 0.0040\n",
            "Epoch 22/100\n",
            "38/38 [==============================] - 17s 458ms/step - loss: 0.0044\n",
            "Epoch 23/100\n",
            "38/38 [==============================] - 18s 463ms/step - loss: 0.0040\n",
            "Epoch 24/100\n",
            "38/38 [==============================] - 18s 461ms/step - loss: 0.0038\n",
            "Epoch 25/100\n",
            "38/38 [==============================] - 17s 458ms/step - loss: 0.0038\n",
            "Epoch 26/100\n",
            "38/38 [==============================] - 18s 461ms/step - loss: 0.0043\n",
            "Epoch 27/100\n",
            "38/38 [==============================] - 18s 467ms/step - loss: 0.0041\n",
            "Epoch 28/100\n",
            "38/38 [==============================] - 18s 474ms/step - loss: 0.0035\n",
            "Epoch 29/100\n",
            "38/38 [==============================] - 17s 459ms/step - loss: 0.0040\n",
            "Epoch 30/100\n",
            "38/38 [==============================] - 17s 458ms/step - loss: 0.0041\n",
            "Epoch 31/100\n",
            "38/38 [==============================] - 17s 459ms/step - loss: 0.0035\n",
            "Epoch 32/100\n",
            "38/38 [==============================] - 18s 461ms/step - loss: 0.0034\n",
            "Epoch 33/100\n",
            "38/38 [==============================] - 17s 457ms/step - loss: 0.0036\n",
            "Epoch 34/100\n",
            "38/38 [==============================] - 18s 461ms/step - loss: 0.0035\n",
            "Epoch 35/100\n",
            "38/38 [==============================] - 17s 456ms/step - loss: 0.0038\n",
            "Epoch 36/100\n",
            "38/38 [==============================] - 17s 453ms/step - loss: 0.0035\n",
            "Epoch 37/100\n",
            "38/38 [==============================] - 17s 458ms/step - loss: 0.0037\n",
            "Epoch 38/100\n",
            "38/38 [==============================] - 18s 462ms/step - loss: 0.0035\n",
            "Epoch 39/100\n",
            "38/38 [==============================] - 17s 455ms/step - loss: 0.0033\n",
            "Epoch 40/100\n",
            "38/38 [==============================] - 17s 456ms/step - loss: 0.0036\n",
            "Epoch 41/100\n",
            "38/38 [==============================] - 17s 458ms/step - loss: 0.0035\n",
            "Epoch 42/100\n",
            "38/38 [==============================] - 17s 455ms/step - loss: 0.0034\n",
            "Epoch 43/100\n",
            "38/38 [==============================] - 17s 460ms/step - loss: 0.0034\n",
            "Epoch 44/100\n",
            "38/38 [==============================] - 18s 465ms/step - loss: 0.0034\n",
            "Epoch 45/100\n",
            "38/38 [==============================] - 18s 465ms/step - loss: 0.0032\n",
            "Epoch 46/100\n",
            "38/38 [==============================] - 17s 459ms/step - loss: 0.0032\n",
            "Epoch 47/100\n",
            "38/38 [==============================] - 17s 449ms/step - loss: 0.0035\n",
            "Epoch 48/100\n",
            "38/38 [==============================] - 17s 459ms/step - loss: 0.0029\n",
            "Epoch 49/100\n",
            "38/38 [==============================] - 17s 452ms/step - loss: 0.0035\n",
            "Epoch 50/100\n",
            "38/38 [==============================] - 17s 460ms/step - loss: 0.0029\n",
            "Epoch 51/100\n",
            "38/38 [==============================] - 18s 466ms/step - loss: 0.0027\n",
            "Epoch 52/100\n",
            "38/38 [==============================] - 17s 456ms/step - loss: 0.0029\n",
            "Epoch 53/100\n",
            "38/38 [==============================] - 18s 465ms/step - loss: 0.0029\n",
            "Epoch 54/100\n",
            "38/38 [==============================] - 17s 453ms/step - loss: 0.0029\n",
            "Epoch 55/100\n",
            "38/38 [==============================] - 18s 466ms/step - loss: 0.0029\n",
            "Epoch 56/100\n",
            "38/38 [==============================] - 18s 462ms/step - loss: 0.0028\n",
            "Epoch 57/100\n",
            "38/38 [==============================] - 18s 468ms/step - loss: 0.0026\n",
            "Epoch 58/100\n",
            "38/38 [==============================] - 18s 477ms/step - loss: 0.0027\n",
            "Epoch 59/100\n",
            "38/38 [==============================] - 18s 469ms/step - loss: 0.0026\n",
            "Epoch 60/100\n",
            "38/38 [==============================] - 18s 483ms/step - loss: 0.0027\n",
            "Epoch 61/100\n",
            "38/38 [==============================] - 18s 478ms/step - loss: 0.0029\n",
            "Epoch 62/100\n",
            "38/38 [==============================] - 18s 473ms/step - loss: 0.0025\n",
            "Epoch 63/100\n",
            "38/38 [==============================] - 18s 470ms/step - loss: 0.0023\n",
            "Epoch 64/100\n",
            "38/38 [==============================] - 18s 470ms/step - loss: 0.0024\n",
            "Epoch 65/100\n",
            "38/38 [==============================] - 18s 475ms/step - loss: 0.0024\n",
            "Epoch 66/100\n",
            "38/38 [==============================] - 18s 462ms/step - loss: 0.0023\n",
            "Epoch 67/100\n",
            "38/38 [==============================] - 18s 475ms/step - loss: 0.0025\n",
            "Epoch 68/100\n",
            "38/38 [==============================] - 18s 463ms/step - loss: 0.0024\n",
            "Epoch 69/100\n",
            "38/38 [==============================] - 18s 466ms/step - loss: 0.0025\n",
            "Epoch 70/100\n",
            "38/38 [==============================] - 18s 478ms/step - loss: 0.0021\n",
            "Epoch 71/100\n",
            "38/38 [==============================] - 18s 479ms/step - loss: 0.0022\n",
            "Epoch 72/100\n",
            "38/38 [==============================] - 18s 475ms/step - loss: 0.0025\n",
            "Epoch 73/100\n",
            "38/38 [==============================] - 18s 478ms/step - loss: 0.0022\n",
            "Epoch 74/100\n",
            "38/38 [==============================] - 18s 469ms/step - loss: 0.0024\n",
            "Epoch 75/100\n",
            "38/38 [==============================] - 18s 483ms/step - loss: 0.0023\n",
            "Epoch 76/100\n",
            "38/38 [==============================] - 18s 474ms/step - loss: 0.0023\n",
            "Epoch 77/100\n",
            "38/38 [==============================] - 18s 480ms/step - loss: 0.0023\n",
            "Epoch 78/100\n",
            "38/38 [==============================] - 18s 477ms/step - loss: 0.0020\n",
            "Epoch 79/100\n",
            "38/38 [==============================] - 18s 481ms/step - loss: 0.0022\n",
            "Epoch 80/100\n",
            "38/38 [==============================] - 18s 484ms/step - loss: 0.0024\n",
            "Epoch 81/100\n",
            "38/38 [==============================] - 18s 483ms/step - loss: 0.0021\n",
            "Epoch 82/100\n",
            "38/38 [==============================] - 19s 487ms/step - loss: 0.0020\n",
            "Epoch 83/100\n",
            "38/38 [==============================] - 18s 486ms/step - loss: 0.0021\n",
            "Epoch 84/100\n",
            "38/38 [==============================] - 18s 483ms/step - loss: 0.0023\n",
            "Epoch 85/100\n",
            "38/38 [==============================] - 18s 482ms/step - loss: 0.0021\n",
            "Epoch 86/100\n",
            "38/38 [==============================] - 18s 481ms/step - loss: 0.0022\n",
            "Epoch 87/100\n",
            "38/38 [==============================] - 18s 475ms/step - loss: 0.0021\n",
            "Epoch 88/100\n",
            "38/38 [==============================] - 18s 478ms/step - loss: 0.0022\n",
            "Epoch 89/100\n",
            "38/38 [==============================] - 18s 480ms/step - loss: 0.0020\n",
            "Epoch 90/100\n",
            "38/38 [==============================] - 18s 475ms/step - loss: 0.0019\n",
            "Epoch 91/100\n",
            "38/38 [==============================] - 18s 466ms/step - loss: 0.0018\n",
            "Epoch 92/100\n",
            "38/38 [==============================] - 18s 476ms/step - loss: 0.0021\n",
            "Epoch 93/100\n",
            "38/38 [==============================] - 18s 472ms/step - loss: 0.0023\n",
            "Epoch 94/100\n",
            "38/38 [==============================] - 18s 466ms/step - loss: 0.0020\n",
            "Epoch 95/100\n",
            "38/38 [==============================] - 18s 468ms/step - loss: 0.0020\n",
            "Epoch 96/100\n",
            "38/38 [==============================] - 18s 473ms/step - loss: 0.0018\n",
            "Epoch 97/100\n",
            "38/38 [==============================] - 18s 467ms/step - loss: 0.0019\n",
            "Epoch 98/100\n",
            "38/38 [==============================] - 17s 459ms/step - loss: 0.0019\n",
            "Epoch 99/100\n",
            "38/38 [==============================] - 18s 468ms/step - loss: 0.0017\n",
            "Epoch 100/100\n",
            "38/38 [==============================] - 18s 465ms/step - loss: 0.0018\n"
          ],
          "name": "stdout"
        }
      ]
    },
    {
      "cell_type": "code",
      "metadata": {
        "id": "cDZkZX3Cvada",
        "colab_type": "code",
        "colab": {}
      },
      "source": [
        ""
      ],
      "execution_count": null,
      "outputs": []
    },
    {
      "cell_type": "code",
      "metadata": {
        "id": "KtyfvdJ6OOC4",
        "colab_type": "code",
        "colab": {}
      },
      "source": [
        "#creating test set\n",
        "fb_testing_complete_data = pd.read_csv(\"/gdrive/My Drive/datasets/fb_test.csv\")\n",
        "fb_testing_processed = fb_testing_complete_data[['Open']].values\n",
        "\n",
        "\n"
      ],
      "execution_count": null,
      "outputs": []
    },
    {
      "cell_type": "code",
      "metadata": {
        "id": "XrKzx5LKlwdL",
        "colab_type": "code",
        "colab": {}
      },
      "source": [
        "fb_all_data = pd.concat((fb_complete_data['Open'], fb_testing_complete_data['Open']), axis=0)"
      ],
      "execution_count": null,
      "outputs": []
    },
    {
      "cell_type": "code",
      "metadata": {
        "id": "hKYjCvZtau3M",
        "colab_type": "code",
        "colab": {
          "base_uri": "https://localhost:8080/",
          "height": 35
        },
        "outputId": "2fa866d0-b006-44b6-82eb-f0b6dd95cc2f"
      },
      "source": [
        "test_inputs = fb_all_data [len(fb_all_data ) - len(fb_testing_complete_data) - 60:].values\n",
        "print(test_inputs.shape)\n"
      ],
      "execution_count": null,
      "outputs": [
        {
          "output_type": "stream",
          "text": [
            "(80,)\n"
          ],
          "name": "stdout"
        }
      ]
    },
    {
      "cell_type": "code",
      "metadata": {
        "id": "vHZ_--5NotN9",
        "colab_type": "code",
        "colab": {
          "base_uri": "https://localhost:8080/",
          "height": 35
        },
        "outputId": "509e2d72-277c-4f24-9583-e29a3a192ee2"
      },
      "source": [
        "test_inputs = test_inputs.reshape(-1,1)\n",
        "test_inputs = scaler.transform(test_inputs)\n",
        "print(test_inputs.shape)"
      ],
      "execution_count": null,
      "outputs": [
        {
          "output_type": "stream",
          "text": [
            "(80, 1)\n"
          ],
          "name": "stdout"
        }
      ]
    },
    {
      "cell_type": "code",
      "metadata": {
        "id": "KCYxBZqMouy2",
        "colab_type": "code",
        "colab": {}
      },
      "source": [
        "fb_test_features = []\n",
        "for i in range(60, 80):\n",
        "    fb_test_features.append(test_inputs[i-60:i, 0])"
      ],
      "execution_count": null,
      "outputs": []
    },
    {
      "cell_type": "code",
      "metadata": {
        "id": "6CdxXBF-pmKd",
        "colab_type": "code",
        "colab": {
          "base_uri": "https://localhost:8080/",
          "height": 35
        },
        "outputId": "4937d873-2077-43b3-9e47-19b124610bd4"
      },
      "source": [
        "X_test = np.array(fb_test_features)\n",
        "print(X_test.shape)"
      ],
      "execution_count": null,
      "outputs": [
        {
          "output_type": "stream",
          "text": [
            "(20, 60)\n"
          ],
          "name": "stdout"
        }
      ]
    },
    {
      "cell_type": "code",
      "metadata": {
        "id": "1PgsXE8dptw4",
        "colab_type": "code",
        "colab": {
          "base_uri": "https://localhost:8080/",
          "height": 35
        },
        "outputId": "fab8b28c-d54d-4a1c-f5f1-cbe514946ba7"
      },
      "source": [
        "#converting test data into 3D shape\n",
        "X_test = np.reshape(X_test, (X_test.shape[0], X_test.shape[1], 1))\n",
        "print(X_test.shape)"
      ],
      "execution_count": null,
      "outputs": [
        {
          "output_type": "stream",
          "text": [
            "(20, 60, 1)\n"
          ],
          "name": "stdout"
        }
      ]
    },
    {
      "cell_type": "code",
      "metadata": {
        "id": "jPbYX-TZp900",
        "colab_type": "code",
        "colab": {
          "base_uri": "https://localhost:8080/",
          "height": 35
        },
        "outputId": "5b9b3eb9-3abb-41c7-9626-c5d5ea7a5656"
      },
      "source": [
        "#making predicitons on test set\n",
        "y_pred =  model.predict(X_test)\n",
        "print(y_pred.shape)"
      ],
      "execution_count": null,
      "outputs": [
        {
          "output_type": "stream",
          "text": [
            "(20, 1)\n"
          ],
          "name": "stdout"
        }
      ]
    },
    {
      "cell_type": "code",
      "metadata": {
        "id": "YqejpICmqEeh",
        "colab_type": "code",
        "colab": {}
      },
      "source": [
        "#converting scaled data back to original data\n",
        "y_pred = scaler.inverse_transform(y_pred)"
      ],
      "execution_count": null,
      "outputs": []
    },
    {
      "cell_type": "code",
      "metadata": {
        "id": "kZQBlwZtqIKC",
        "colab_type": "code",
        "colab": {
          "base_uri": "https://localhost:8080/",
          "height": 404
        },
        "outputId": "a67a72ea-7578-442b-cce6-9d270131dc51"
      },
      "source": [
        "#plotting original and predicted stock values\n",
        "plt.figure(figsize=(8,6))\n",
        "plt.plot(fb_testing_processed, color='red', label='Actual Facenook Stock Price')\n",
        "plt.plot(y_pred , color='green', label='Predicted Face Stock Price')\n",
        "plt.title('Facebook Stock Prices')\n",
        "plt.xlabel('Date')\n",
        "plt.ylabel('Stock Price')\n",
        "plt.legend()\n",
        "plt.show()"
      ],
      "execution_count": null,
      "outputs": [
        {
          "output_type": "display_data",
          "data": {
            "image/png": "[encoded data removed]",
            "text/plain": [
              "<Figure size 576x432 with 1 Axes>"
            ]
          },
          "metadata": {
            "tags": [],
            "needs_background": "light"
          }
        }
      ]
    },
    {
      "cell_type": "code",
      "metadata": {
        "id": "VxqsNVfrzMlH",
        "colab_type": "code",
        "colab": {}
      },
      "source": [
        ""
      ],
      "execution_count": null,
      "outputs": []
    }
  ]
}